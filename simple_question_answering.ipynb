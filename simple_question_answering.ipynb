{
  "nbformat": 4,
  "nbformat_minor": 0,
  "metadata": {
    "colab": {
      "provenance": []
    },
    "kernelspec": {
      "name": "python3",
      "display_name": "Python 3"
    },
    "language_info": {
      "name": "python"
    }
  },
  "cells": [
    {
      "cell_type": "code",
      "execution_count": 1,
      "metadata": {
        "colab": {
          "base_uri": "https://localhost:8080/"
        },
        "id": "QcRMsgvA7Qpa",
        "outputId": "929a8ea9-80fc-4b99-e080-bc48b495aeea"
      },
      "outputs": [
        {
          "output_type": "stream",
          "name": "stdout",
          "text": [
            "\u001b[2K     \u001b[90m━━━━━━━━━━━━━━━━━━━━━━━━━━━━━━━━━━━━━━━━\u001b[0m \u001b[32m41.9/41.9 kB\u001b[0m \u001b[31m1.2 MB/s\u001b[0m eta \u001b[36m0:00:00\u001b[0m\n",
            "\u001b[2K   \u001b[90m━━━━━━━━━━━━━━━━━━━━━━━━━━━━━━━━━━━━━━━━\u001b[0m \u001b[32m8.7/8.7 MB\u001b[0m \u001b[31m25.6 MB/s\u001b[0m eta \u001b[36m0:00:00\u001b[0m\n",
            "\u001b[2K   \u001b[90m━━━━━━━━━━━━━━━━━━━━━━━━━━━━━━━━━━━━━━━━\u001b[0m \u001b[32m207.3/207.3 kB\u001b[0m \u001b[31m11.1 MB/s\u001b[0m eta \u001b[36m0:00:00\u001b[0m\n",
            "\u001b[2K   \u001b[90m━━━━━━━━━━━━━━━━━━━━━━━━━━━━━━━━━━━━━━━━\u001b[0m \u001b[32m6.9/6.9 MB\u001b[0m \u001b[31m40.7 MB/s\u001b[0m eta \u001b[36m0:00:00\u001b[0m\n",
            "\u001b[2K   \u001b[90m━━━━━━━━━━━━━━━━━━━━━━━━━━━━━━━━━━━━━━━━\u001b[0m \u001b[32m79.3/79.3 kB\u001b[0m \u001b[31m2.7 MB/s\u001b[0m eta \u001b[36m0:00:00\u001b[0m\n",
            "\u001b[2K   \u001b[90m━━━━━━━━━━━━━━━━━━━━━━━━━━━━━━━━━━━━━━━━\u001b[0m \u001b[32m62.7/62.7 kB\u001b[0m \u001b[31m1.8 MB/s\u001b[0m eta \u001b[36m0:00:00\u001b[0m\n",
            "\u001b[?25h"
          ]
        }
      ],
      "source": [
        "!pip install streamlit transformers --quiet\n",
        "!pip install pyngrok --quiet\n"
      ]
    },
    {
      "cell_type": "code",
      "source": [
        "!pip install streamlit pyngrok transformers\n",
        "\n",
        "# Import necessary libraries\n",
        "import streamlit as st\n",
        "from pyngrok import ngrok\n",
        "from transformers import pipeline"
      ],
      "metadata": {
        "id": "io3_Ro9VDCGA"
      },
      "execution_count": null,
      "outputs": []
    },
    {
      "cell_type": "code",
      "source": [
        "%%writefile app.py\n",
        "\n",
        "import streamlit as st\n",
        "from transformers import pipeline\n",
        "\n",
        "# Load the question-answering model using DistilBERT from Hugging Face\n",
        "qa_model = pipeline(\"question-answering\", model=\"distilbert-base-uncased-distilled-squad\")\n",
        "\n",
        "# Streamlit UI components\n",
        "st.title(\"Dynamic Context Question Answering Web App\")\n",
        "st.write(\"Provide context and ask a question based on the given context.\")\n",
        "\n",
        "# Input for the context (dynamic input for the user)\n",
        "context = st.text_area(\"Enter your context here:\", height=200)\n",
        "\n",
        "# Input for the question (from the user)\n",
        "question = st.text_input(\"Enter your question:\")\n",
        "\n",
        "# Only perform the question answering if both context and question are provided\n",
        "if context and question:\n",
        "    # Get the answer based on the user's context and question\n",
        "    result = qa_model(question=question, context=context)\n",
        "\n",
        "    # Display the answer\n",
        "    st.subheader(\"Answer:\")\n",
        "    st.write(result['answer'])\n",
        "else:\n",
        "    st.write(\"Please provide both a context and a question to get an answer.\")\n"
      ],
      "metadata": {
        "colab": {
          "base_uri": "https://localhost:8080/"
        },
        "id": "DXTkVAlz8cR6",
        "outputId": "2487ec53-0958-415a-8230-fdf603293ff2"
      },
      "execution_count": 16,
      "outputs": [
        {
          "output_type": "stream",
          "name": "stdout",
          "text": [
            "Overwriting app.py\n"
          ]
        }
      ]
    },
    {
      "cell_type": "code",
      "source": [
        "# Replace YOUR_AUTHTOKEN with the token you copied from Ngrok\n",
        "!ngrok authtoken YOUR_AUTHTOKEN"
      ],
      "metadata": {
        "colab": {
          "base_uri": "https://localhost:8080/"
        },
        "id": "5nGYdF8I8eaB",
        "outputId": "daf2b1a2-082f-4e50-dead-8698730eeaae"
      },
      "execution_count": 17,
      "outputs": [
        {
          "output_type": "stream",
          "name": "stdout",
          "text": [
            "Authtoken saved to configuration file: /root/.config/ngrok/ngrok.yml\n"
          ]
        }
      ]
    },
    {
      "cell_type": "code",
      "source": [
        "from pyngrok import ngrok\n",
        "\n",
        "# Start a Streamlit app\n",
        "!streamlit run app.py &>/dev/null&\n",
        "\n",
        "# Create a tunnel to access the app on port 8501 using HTTP protocol\n",
        "public_url = ngrok.connect(8501, \"http\")\n",
        "print(f\"Access the web app here: {public_url}\")"
      ],
      "metadata": {
        "colab": {
          "base_uri": "https://localhost:8080/"
        },
        "id": "DbhpmqW39OKZ",
        "outputId": "36789876-2245-4d6e-e4d0-ebab0b229dce"
      },
      "execution_count": 18,
      "outputs": [
        {
          "output_type": "stream",
          "name": "stdout",
          "text": [
            "Access the web app here: NgrokTunnel: \"https://4cc5-34-85-148-86.ngrok-free.app\" -> \"http://localhost:8501\"\n"
          ]
        }
      ]
    },
    {
      "cell_type": "code",
      "source": [],
      "metadata": {
        "id": "rU-lZCSf73hQ"
      },
      "execution_count": null,
      "outputs": []
    }
  ]
}